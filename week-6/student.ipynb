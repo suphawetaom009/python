{
 "cells": [
  {
   "cell_type": "code",
   "execution_count": 4,
   "id": "21d58fd3",
   "metadata": {},
   "outputs": [
    {
     "name": "stdout",
     "output_type": "stream",
     "text": [
      "\n",
      "รายชื่อนักเรียนที่มีคะแนนน้อยกว่า 50 คะแนน :\n",
      "\n",
      "รายชื่อนักเรียนพร้อมคะแนนและเกรด :\n",
      "สุภเวช : 80 (A)\n",
      "สุพรรษา : 77 (B)\n",
      "กิตติศักดิ์ : 60 (C)\n",
      "สุภเวช : 80.0 (A)\n",
      "สุพรรษา : 77.0 (B)\n",
      "\n",
      "เรียงลำดับนักเรียนจากคะแนนมากไปน้อย :\n",
      "student(name=สุภเวช, score=80)\n",
      "student(name=สุภเวช, score=80.0)\n",
      "student(name=สุพรรษา, score=77)\n",
      "student(name=สุพรรษา, score=77.0)\n",
      "student(name=กิตติศักดิ์, score=60)\n"
     ]
    }
   ],
   "source": [
    "class student:\n",
    "    def __init__(self,name,score):\n",
    "        self.name = name\n",
    "        self.score = score\n",
    "\n",
    "    def __repr__(self):\n",
    "        return f\"student(name={self.name}, score={self.score})\"\n",
    "    \n",
    "students = [\n",
    "        student(\"สุภเวช\",80),\n",
    "        student(\"สุพรรษา\",77),\n",
    "        student(\"กิตติศักดิ์\",60),    \n",
    "        ]\n",
    "\n",
    "while True:\n",
    "    name = input(\"ป้อนชื่อนักเรียน(หรือ 'stop' เพื่อออกจากโปรแกรม) : \")\n",
    "    if name.lower() == \"stop\":\n",
    "        break\n",
    "\n",
    "    scor_text = input(\"ป้อนคะแนนที่ได้ :\")\n",
    "\n",
    "    if scor_text.replace('.','.',1).isdigit():\n",
    "        scor = float(scor_text)\n",
    "        students.append(student(name, scor))\n",
    "    elif scor_text.isdigit():\n",
    "        scor = int (scor_text)\n",
    "        students.append(student(name, scor))\n",
    "    else:\n",
    "        print(\"กรุณาป้อนคะแนนเป็นตัวเลขเท่านั้น\")\n",
    "\n",
    "print(\"\\nรายชื่อนักเรียนที่มีคะแนนน้อยกว่า 50 คะแนน :\")\n",
    "low_scores = list (filter(lambda s: s.score < 50, students))\n",
    "for s in low_scores:\n",
    "    print(s)\n",
    "\n",
    "print(\"\\nรายชื่อนักเรียนพร้อมคะแนนและเกรด :\")\n",
    "def scor_to_grade(student):\n",
    "    if student.score >=  80:\n",
    "        grade = \"A\"\n",
    "    elif student.score >=  70:\n",
    "        grade = \"B\"\n",
    "    elif student.score >=  60:\n",
    "        grade = \"C\"\n",
    "    elif student.score >=  50:\n",
    "        grade = \"D\"\n",
    "    else:\n",
    "        grade = \"F\"\n",
    "    return f\"{student.name} : {student.score} ({grade})\"\n",
    "\n",
    "grades = list(map(scor_to_grade, students))\n",
    "for g in grades:\n",
    "    print(g)\n",
    "\n",
    "print(\"\\nเรียงลำดับนักเรียนจากคะแนนมากไปน้อย :\")\n",
    "sorted_students = sorted(students, key=lambda s: s.score, reverse=True)\n",
    "for s in sorted_students:\n",
    "    print(s)"
   ]
  }
 ],
 "metadata": {
  "kernelspec": {
   "display_name": "base",
   "language": "python",
   "name": "python3"
  },
  "language_info": {
   "codemirror_mode": {
    "name": "ipython",
    "version": 3
   },
   "file_extension": ".py",
   "mimetype": "text/x-python",
   "name": "python",
   "nbconvert_exporter": "python",
   "pygments_lexer": "ipython3",
   "version": "3.13.5"
  }
 },
 "nbformat": 4,
 "nbformat_minor": 5
}
