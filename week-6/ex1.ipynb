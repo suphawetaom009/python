{
 "cells": [
  {
   "cell_type": "code",
   "execution_count": 2,
   "id": "9ce7f602",
   "metadata": {},
   "outputs": [
    {
     "name": "stdout",
     "output_type": "stream",
     "text": [
      "0\n",
      "1\n",
      "2\n",
      "3\n",
      "4\n",
      "5\n"
     ]
    }
   ],
   "source": [
    "for x in range(6):\n",
    "    print(x)"
   ]
  },
  {
   "cell_type": "code",
   "execution_count": 4,
   "id": "058cb7ab",
   "metadata": {},
   "outputs": [
    {
     "name": "stdout",
     "output_type": "stream",
     "text": [
      "2\n",
      "4\n",
      "6\n",
      "8\n"
     ]
    }
   ],
   "source": [
    "for x in range(2,10,2):\n",
    "    print(x)"
   ]
  },
  {
   "cell_type": "code",
   "execution_count": 9,
   "id": "01ebaf4f",
   "metadata": {},
   "outputs": [
    {
     "name": "stdout",
     "output_type": "stream",
     "text": [
      "0\n",
      "1\n",
      "2\n"
     ]
    }
   ],
   "source": [
    "for  x in range(6):\n",
    "    if(x == 3):\n",
    "        break\n",
    "    print(x)\n",
    "else:\n",
    "    print(\"finally finished\")"
   ]
  },
  {
   "cell_type": "code",
   "execution_count": 36,
   "id": "0c87f3a2",
   "metadata": {},
   "outputs": [
    {
     "name": "stdout",
     "output_type": "stream",
     "text": [
      "apple  is color  red\n",
      "banana  is color  yellow\n",
      "berry  is color  purple\n"
     ]
    }
   ],
   "source": [
    "\n",
    "fruits = [\"apple\",\"banana\",\"berry\"]\n",
    "adj = [\"red\",\"yellow\",\"purple\"]\n",
    "j=0\n",
    "for i in fruits:\n",
    "        print(i, \" is color \", adj[j])\n",
    "        j = j+1"
   ]
  },
  {
   "cell_type": "code",
   "execution_count": 39,
   "id": "926727d7",
   "metadata": {},
   "outputs": [],
   "source": [
    "fruits = []\n",
    "adj = []\n",
    "j=0\n",
    "while True:\n",
    "    inp_state = input(\"press Q for end, or Enter to Any Input:\")\n",
    "    if(inp_state.lower() == \"q\"):\n",
    "        break\n",
    "    else:\n",
    "        inp1 = input(\"Fruit name is :\")\n",
    "        fruits.append(inp1)\n",
    "\n",
    "        inp2 = input(\"Color name is :\")\n",
    "        adj.append(inp2)"
   ]
  },
  {
   "cell_type": "code",
   "execution_count": 40,
   "id": "56aa3ef1",
   "metadata": {},
   "outputs": [
    {
     "name": "stdout",
     "output_type": "stream",
     "text": [
      "a  is color  red\n"
     ]
    }
   ],
   "source": [
    "j=0\n",
    "for i in fruits:\n",
    "        print(i, \" is color \", adj[j])\n",
    "        j = j+1"
   ]
  },
  {
   "cell_type": "code",
   "execution_count": null,
   "id": "585145ac",
   "metadata": {},
   "outputs": [
    {
     "name": "stdout",
     "output_type": "stream",
     "text": [
      "15\n"
     ]
    }
   ],
   "source": [
    "#lamda\n",
    "x = lambda a : a +10\n",
    "print(x(5))\n",
    "\n",
    "x = lambda x1, y1, x2,y2, x3,y3 : 0.5 * abs(x1*(y2-y3) + x2*(y3-y1)+ x3*(y1-y2))\n",
    "\n",
    "print(x(1,1 4,1 1,5))"
   ]
  },
  {
   "cell_type": "code",
   "execution_count": 43,
   "id": "5b394d3a",
   "metadata": {},
   "outputs": [
    {
     "name": "stdout",
     "output_type": "stream",
     "text": [
      "sorted by Number :  [('appie', 5), ('banana', 5), ('cherry', 9)]\n"
     ]
    }
   ],
   "source": [
    "data = [(\"appie\", 5 ), (\"banana\", 5 ),(\"cherry\", 9 ),]\n",
    "\n",
    "data.sort(key=lambda x:x[0])\n",
    "print(\"sorted by Number : \", data)"
   ]
  }
 ],
 "metadata": {
  "kernelspec": {
   "display_name": "base",
   "language": "python",
   "name": "python3"
  },
  "language_info": {
   "codemirror_mode": {
    "name": "ipython",
    "version": 3
   },
   "file_extension": ".py",
   "mimetype": "text/x-python",
   "name": "python",
   "nbconvert_exporter": "python",
   "pygments_lexer": "ipython3",
   "version": "3.13.5"
  }
 },
 "nbformat": 4,
 "nbformat_minor": 5
}
