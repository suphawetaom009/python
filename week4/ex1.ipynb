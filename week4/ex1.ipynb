{
 "cells": [
  {
   "cell_type": "code",
   "execution_count": null,
   "id": "e4a4ec58",
   "metadata": {},
   "outputs": [
    {
     "name": "stdout",
     "output_type": "stream",
     "text": [
      "ชื่อ สุภเวช งามปลอด รหัสนักศึกษา 674245009 คะเนน 80.0 Grade  A\n",
      "ชื่อ สุภเวช งามปลอด รหัสนักศึกษา  674245009 คะเนน 75.0 Grade  B+\n"
     ]
    }
   ],
   "source": [
    "def cal_grade(point):\n",
    "    if(point>= 80):  \n",
    "            return \"A\"\n",
    "    elif (point >= 75):\n",
    "            return \"B+\"\n",
    "    elif (point >= 70):\n",
    "            return \"B\"\n",
    "    elif (point >= 65):\n",
    "            return \"C+\"\n",
    "    elif (point >= 60):\n",
    "            return \"C\"\n",
    "    elif (point >= 55):\n",
    "            return \"D+\"\n",
    "    elif (point >= 50):\n",
    "            return \"D\"\n",
    "    else:\n",
    "            return \"E\"\n",
    "        \n",
    "\n",
    "count = 0\n",
    "stop = 3\n",
    "\n",
    "while count < stop:\n",
    "    count += 1\n",
    "        \n",
    "        \n",
    "    Name = input(\"กรอกชื่อ นามสกุล :\") #รับค่าเข้ามาเป็น สติง \n",
    "    ra = input(\"กรอกรหัสนักศึกษา :\") #รับค่าเข้ามาเป็น สติง      \n",
    "    inp_point = input(\"กรอกคะเเนน :\") #รับค่าเข้ามาเป็น สติง\n",
    "\n",
    "    if (inp_point.isdigit()):\n",
    "        point = float(inp_point) #เปลงป็น ... int/Float => ex.float\n",
    "\n",
    "        if(point >= 0 and point <= 100):\n",
    "            print(\"ชื่อ\",Name,\"รหัสนักศึกษา\",ra,\"คะเนน\",point,\"Grade \" ,cal_grade(point))\n",
    "        else:\n",
    "            print(\"เงือนไขในการกรอกข้อมูลผิดพลาด\")\n",
    "    else:\n",
    "        print(\"False\")\n",
    "        "
   ]
  }
 ],
 "metadata": {
  "kernelspec": {
   "display_name": "base",
   "language": "python",
   "name": "python3"
  },
  "language_info": {
   "codemirror_mode": {
    "name": "ipython",
    "version": 3
   },
   "file_extension": ".py",
   "mimetype": "text/x-python",
   "name": "python",
   "nbconvert_exporter": "python",
   "pygments_lexer": "ipython3",
   "version": "3.13.5"
  }
 },
 "nbformat": 4,
 "nbformat_minor": 5
}
