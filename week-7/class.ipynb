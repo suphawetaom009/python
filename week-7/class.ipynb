{
 "cells": [
  {
   "cell_type": "code",
   "execution_count": null,
   "id": "ad8a0cc5",
   "metadata": {},
   "outputs": [
    {
     "name": "stdout",
     "output_type": "stream",
     "text": [
      "5\n"
     ]
    }
   ],
   "source": [
    "class myClass:\n",
    "    x =5\n",
    "    y = 10 \n",
    "\n",
    "c1 = myClass\n",
    "print(c1.x)\n",
    "print(c1.y)"
   ]
  },
  {
   "cell_type": "code",
   "execution_count": 8,
   "id": "f07fe1dd",
   "metadata": {},
   "outputs": [
    {
     "name": "stdout",
     "output_type": "stream",
     "text": [
      "Suphawet\n",
      "19\n"
     ]
    }
   ],
   "source": [
    "class Person:\n",
    "    def __init__(self, name, age):\n",
    "        self.name = name\n",
    "        self.age = age\n",
    "p1 = Person(\"Suphawet\", 19)\n",
    "\n",
    "print(p1.name)\n",
    "print(p1.age)"
   ]
  },
  {
   "cell_type": "code",
   "execution_count": 16,
   "id": "39042ecc",
   "metadata": {},
   "outputs": [
    {
     "name": "stdout",
     "output_type": "stream",
     "text": [
      "['Honda', 'Nissan', 'Mitsubushi', 'Bmw']\n"
     ]
    }
   ],
   "source": [
    "class Person:\n",
    "    def __init__(self, name, age):\n",
    "        self.name = name\n",
    "        self.age = age\n",
    "\n",
    "    def printname(self):\n",
    "        print(self.name,self.age)\n",
    "\n",
    "    def data_return(self, gender):\n",
    "        return self.name+\" \"+str(self.age)+\" \"+gender\n",
    "\n",
    "    def profile(self, gender):\n",
    "        return \"gender :\"+gender\n",
    "\n",
    "    class Cars:\n",
    "        def __init__(self, ):\n",
    "            self.car_array =[]\n",
    "\n",
    "        def data_all(self):\n",
    "            return self.car_array\n",
    "\n",
    "        def data_add(self, brand):\n",
    "            self.car_array.append(brand)\n",
    "        def data_insert(self, index, value):\n",
    "            self.car_array.insert(index, value)\n",
    "\n",
    "        def data_pop(self, index):\n",
    "            self.car_array.pop(index)\n",
    "\n",
    "    cars_data =  Cars()\n",
    "    cars_data.data_add(\"Honda\")\n",
    "    cars_data.data_add(\"Toyota\")\n",
    "    cars_data.data_add(\"Mitsubushi\")\n",
    "\n",
    "    cars_data.data_insert(2, \"Nissan\")\n",
    "    cars_data.data_add(\"Bmw\")\n",
    "    cars_data.data_pop(1)\n",
    "\n",
    "    print(cars_data.data_all())"
   ]
  }
 ],
 "metadata": {
  "kernelspec": {
   "display_name": "base",
   "language": "python",
   "name": "python3"
  },
  "language_info": {
   "codemirror_mode": {
    "name": "ipython",
    "version": 3
   },
   "file_extension": ".py",
   "mimetype": "text/x-python",
   "name": "python",
   "nbconvert_exporter": "python",
   "pygments_lexer": "ipython3",
   "version": "3.13.5"
  }
 },
 "nbformat": 4,
 "nbformat_minor": 5
}
