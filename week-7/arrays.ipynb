{
 "cells": [
  {
   "cell_type": "code",
   "execution_count": 1,
   "id": "eb819b44",
   "metadata": {},
   "outputs": [
    {
     "name": "stdout",
     "output_type": "stream",
     "text": [
      "['ford', 'volvo', 'bmw']\n",
      "['ford', 'volvo', 'bmw']\n",
      "['Toyota', 'volvo', 'bmw']\n",
      "3\n",
      "['Toyota', 'volvo', 'bmw', 'honda']\n",
      "[]\n"
     ]
    }
   ],
   "source": [
    "cars = [\"ford\",\"volvo\",\"bmw\"]\n",
    "cars_copy = cars.copy()#ใช้กอปปี้ข้อมูลจากด้านบนที่มีอยู่ก่อนหน้าเเล้ว\n",
    "print(cars_copy)\n",
    "\n",
    "print(cars)\n",
    "\n",
    "cars[0] = \"Toyota\"\n",
    "\n",
    "print(cars)\n",
    "x = len(cars)#นับจำนวนข้อมูลที่มีทั้หมด\n",
    "print(x)\n",
    "\n",
    "cars.append(\"honda\")#ข้อมูลจะอยู้ท้ายขอ้มูลที่มีอยู่ก่อนหน้า\n",
    "print(cars)\n",
    "\n",
    "cars.clear()#ลบข้อมูลทีี่มีก่อนหน้ามาทั้งหมด\n",
    "print(cars)\n",
    "\n",
    "#\n",
    "#\n",
    "\n"
   ]
  },
  {
   "cell_type": "code",
   "execution_count": null,
   "id": "d99ed6c6",
   "metadata": {},
   "outputs": [
    {
     "name": "stdout",
     "output_type": "stream",
     "text": [
      "backup data <built-in method copy of list object at 0x000001ED8A13D540>\n",
      "['ford', 'volvo', 'bmw']\n",
      "['ford', 'Toyota', 'bmw']\n",
      "3\n",
      "['ford', 'Toyota', 'bmw', 'Honda']\n"
     ]
    }
   ],
   "source": [
    "cars = [\"ford\", \"volvo\", \"bmw\"]\n",
    "cars_copy = cars.copy()\n",
    "print(\"backup data\",cars.copy )\n",
    "\n",
    "print(cars)\n",
    "\n",
    "cars[1] = \"Toyota\"\n",
    "\n",
    "print(cars)\n",
    "\n",
    "x = len(cars)\n",
    "\n",
    "print(x)\n",
    "\n",
    "cars.append(\"Honda\")\n",
    "\n",
    "print(cars) \n",
    "\n",
    "#cars.clear()\n",
    "\n",
    "#print(cars)\n",
    "\n",
    "\n",
    "print(cars)\n",
    "\n",
    "cars[1] = \"Toyota\"\n",
    "\n",
    "print(cars)\n",
    "\n",
    "x = len(cars)\n",
    "\n",
    "print(x)\n",
    "\n",
    "cars.append(\"Honda\")\n",
    "\n",
    "print(cars) \n",
    "\n",
    "#cars.clear()\n",
    "\n",
    "#print(cars)\n",
    "\n"
   ]
  },
  {
   "cell_type": "code",
   "execution_count": null,
   "id": "a2a13ecd",
   "metadata": {},
   "outputs": [],
   "source": [
    "\n"
   ]
  }
 ],
 "metadata": {
  "kernelspec": {
   "display_name": "base",
   "language": "python",
   "name": "python3"
  },
  "language_info": {
   "codemirror_mode": {
    "name": "ipython",
    "version": 3
   },
   "file_extension": ".py",
   "mimetype": "text/x-python",
   "name": "python",
   "nbconvert_exporter": "python",
   "pygments_lexer": "ipython3",
   "version": "3.13.5"
  }
 },
 "nbformat": 4,
 "nbformat_minor": 5
}
